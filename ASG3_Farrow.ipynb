{
 "cells": [
  {
   "cell_type": "markdown",
   "metadata": {},
   "source": [
    "## M3-ASG3 Loops\n",
    "---"
   ]
  },
  {
   "cell_type": "code",
   "execution_count": 1,
   "metadata": {},
   "outputs": [],
   "source": [
    "Your_last_name = 'Farrow'\n",
    "Your_netID = 'tdf35'"
   ]
  },
  {
   "cell_type": "markdown",
   "metadata": {},
   "source": [
    "---\n",
    "### Hint"
   ]
  },
  {
   "cell_type": "markdown",
   "metadata": {},
   "source": [
    "You can get the length of a string using the **len()** function:\n",
    "\n",
    "    [in]  len('Jack')\n",
    "    [out] 4\n",
    "    \n",
    "To check if a letter exist in a string you can use the **in** keyword:\n",
    "\n",
    "    [in]  'c' in 'Jack'\n",
    "    [out] True"
   ]
  },
  {
   "cell_type": "markdown",
   "metadata": {},
   "source": [
    "---\n",
    "### Part 1"
   ]
  },
  {
   "cell_type": "code",
   "execution_count": 3,
   "metadata": {},
   "outputs": [],
   "source": [
    "company_list = ['Principal Financial Group Inc.', 'Gilead Sciences Inc.', 'AT&T Inc.', 'Microsoft','Exxon', 'Wells Fargo', 'Visa','Facebook','The J.M. Smucker Company']"
   ]
  },
  {
   "cell_type": "code",
   "execution_count": 8,
   "metadata": {},
   "outputs": [
    {
     "name": "stdout",
     "output_type": "stream",
     "text": [
      "Principal Financial Group Inc.\n",
      "Microsoft\n",
      "Wells Fargo\n",
      "The J.M. Smucker Company\n"
     ]
    }
   ],
   "source": [
    "for company in company_list:\n",
    "    if 'r' in company:\n",
    "        print (company)"
   ]
  },
  {
   "cell_type": "markdown",
   "metadata": {},
   "source": [
    "---\n",
    "### Part 2"
   ]
  },
  {
   "cell_type": "code",
   "execution_count": 18,
   "metadata": {},
   "outputs": [
    {
     "name": "stdout",
     "output_type": "stream",
     "text": [
      "12 x 1 = 12\n",
      "12 x 2 = 24\n",
      "12 x 3 = 36\n",
      "12 x 4 = 48\n",
      "12 x 5 = 60\n",
      "12 x 6 = 72\n",
      "12 x 7 = 84\n",
      "12 x 8 = 96\n",
      "12 x 9 = 108\n",
      "12 x 10 = 120\n",
      "12 x 11 = 132\n",
      "12 x 12 = 144\n"
     ]
    }
   ],
   "source": [
    "x = 1\n",
    "\n",
    "while x * 12 <=144:\n",
    "    print('12 x', x, '=', x*12)\n",
    "    x = x + 1"
   ]
  },
  {
   "cell_type": "markdown",
   "metadata": {},
   "source": [
    "---\n",
    "### Part 3"
   ]
  },
  {
   "cell_type": "code",
   "execution_count": 2,
   "metadata": {},
   "outputs": [],
   "source": [
    "my_names = ['Mary', 'Helen', 'Steve', 'Anna', 'Margaret', 'Ruth', 'Elizabeth', 'Marie', 'Rose', 'Florence', 'Berth', \n",
    "            'John', 'William', 'James', 'George', 'Charles', 'Joseph', 'Frank', 'Harry', 'Henry', 'Edward']"
   ]
  },
  {
   "cell_type": "code",
   "execution_count": 32,
   "metadata": {},
   "outputs": [
    {
     "name": "stdout",
     "output_type": "stream",
     "text": [
      "Helen\n",
      "# of letters: 5\n",
      "Steve\n",
      "# of letters: 5\n",
      "Margaret\n",
      "# of letters: 8\n",
      "Elizabeth\n",
      "# of letters: 9\n",
      "Marie\n",
      "# of letters: 5\n",
      "Florence\n",
      "# of letters: 8\n",
      "Berth\n",
      "# of letters: 5\n",
      "William\n",
      "# of letters: 7\n",
      "James\n",
      "# of letters: 5\n",
      "George\n",
      "# of letters: 6\n",
      "Charles\n",
      "# of letters: 7\n",
      "Joseph\n",
      "# of letters: 6\n",
      "Frank\n",
      "# of letters: 5\n",
      "Harry\n",
      "# of letters: 5\n",
      "Henry\n",
      "# of letters: 5\n",
      "Edward\n",
      "# of letters: 6\n"
     ]
    }
   ],
   "source": [
    "for name in my_names:\n",
    "    if len(name) > 4:\n",
    "        print(name), print('# of letters:', len(name))"
   ]
  },
  {
   "cell_type": "markdown",
   "metadata": {},
   "source": [
    "---\n",
    "### Part 4"
   ]
  },
  {
   "cell_type": "code",
   "execution_count": null,
   "metadata": {},
   "outputs": [],
   "source": [
    "my_letters = ['a','b','e','l','r','t','z','u','i','k','l','m','q','y','x','p']\n",
    "vowels = ['a','e','i','u','o','y']"
   ]
  },
  {
   "cell_type": "code",
   "execution_count": 54,
   "metadata": {},
   "outputs": [
    {
     "name": "stdout",
     "output_type": "stream",
     "text": [
      "a\n",
      "is a vowel\n",
      "b\n",
      "is a consonant\n",
      "e\n",
      "is a vowel\n",
      "l\n",
      "is a consonant\n",
      "r\n",
      "is a consonant\n",
      "t\n",
      "is a consonant\n",
      "z\n",
      "is a consonant\n",
      "u\n",
      "is a vowel\n",
      "i\n",
      "is a vowel\n",
      "k\n",
      "is a consonant\n",
      "l\n",
      "is a consonant\n",
      "m\n",
      "is a consonant\n",
      "q\n",
      "is a consonant\n",
      "y\n",
      "is a vowel\n",
      "x\n",
      "is a consonant\n",
      "p\n",
      "is a consonant\n"
     ]
    }
   ],
   "source": [
    "for letter in my_letters:\n",
    "    if (letter in vowels):\n",
    "        print (letter)\n",
    "        print ('is a vowel')\n",
    "    else:\n",
    "        print (letter)\n",
    "        print ('is a consonant')\n",
    "        "
   ]
  }
 ],
 "metadata": {
  "kernelspec": {
   "display_name": "Python 3",
   "language": "python",
   "name": "python3"
  },
  "language_info": {
   "codemirror_mode": {
    "name": "ipython",
    "version": 3
   },
   "file_extension": ".py",
   "mimetype": "text/x-python",
   "name": "python",
   "nbconvert_exporter": "python",
   "pygments_lexer": "ipython3",
   "version": "3.8.5"
  }
 },
 "nbformat": 4,
 "nbformat_minor": 4
}
