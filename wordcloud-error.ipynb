{
 "cells": [
  {
   "cell_type": "code",
   "execution_count": null,
   "metadata": {},
   "outputs": [],
   "source": [
    "#Wordcloud Install\n",
    "#!pip install wordcloud\n",
    "#import wordcloud"
   ]
  },
  {
   "cell_type": "code",
   "execution_count": 2,
   "metadata": {},
   "outputs": [],
   "source": [
    "#lst = ['file1.txt','file2.txt','file3.txt']"
   ]
  },
  {
   "cell_type": "code",
   "execution_count": 12,
   "metadata": {},
   "outputs": [],
   "source": [
    " #def create_word_cloud(file_name):\n",
    "    #xchars = ['#','~','!','@','#','$','%','^','&','*','(',')','_','+','`','-','=','{','}','[',']','|','\\\\',':',';','\"',\"'\",'<',',','>','.','?','/','\"']\n",
    "    #words_to_remove = ['word','words','wordsss']\n",
    "\n",
    "    #word_dict = {}\n",
    "\n",
    "    #transcript =open(file_name, mode='r')\n",
    "\n",
    "    #for line_i in transcript:\n",
    "        #for xchar in xchars:\n",
    "            #line_i =line_i.re place(xchar, ' ')\n",
    "        #line_i_split = line_i.split()\n",
    "\n",
    "        #for word in line_i_split:\n",
    "            #word = word.lower\n",
    "            #if word not in word_dict:\n",
    "                #word_dict[word] = 1\n",
    "            #else:\n",
    "                #word_dict[word] += 1\n",
    "\n",
    "    #transcript.close()\n",
    "\n",
    "    #for word in words_to_remove:\n",
    "        #if word in word_dict:\n",
    "             #del word_dict[word]\n",
    "    \n",
    "    #png_file_name = file_name.replace('.txt',' ') + '.png'\n",
    "\n",
    "    #wordcloud.WordCloud(colormap='prism', background_color='white',width = 600,height = 400).generate_from_frequencies(word_dict).to_file(png_file_name)"
   ]
  },
  {
   "cell_type": "code",
   "execution_count": 13,
   "metadata": {},
   "outputs": [],
   "source": [
    "#for txt in lst:\n",
    "    #create_word_cloud(txt)"
   ]
  }
 ],
 "metadata": {
  "kernelspec": {
   "display_name": "Python 3",
   "language": "python",
   "name": "python3"
  },
  "language_info": {
   "codemirror_mode": {
    "name": "ipython",
    "version": 3
   },
   "file_extension": ".py",
   "mimetype": "text/x-python",
   "name": "python",
   "nbconvert_exporter": "python",
   "pygments_lexer": "ipython3",
   "version": "3.8.5"
  }
 },
 "nbformat": 4,
 "nbformat_minor": 4
}
