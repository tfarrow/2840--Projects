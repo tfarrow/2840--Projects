{
 "cells": [
  {
   "cell_type": "code",
   "execution_count": 4,
   "metadata": {},
   "outputs": [],
   "source": [
    "def find_final_amount(p,r,n,t):\n",
    "    amount = p * ((1+(r/n)) ** (n*t))\n",
    "    final_amount = round(amount,2)\n",
    "    return final_amount"
   ]
  },
  {
   "cell_type": "code",
   "execution_count": 5,
   "metadata": {},
   "outputs": [
    {
     "data": {
      "text/plain": [
       "10824.32"
      ]
     },
     "execution_count": 5,
     "metadata": {},
     "output_type": "execute_result"
    }
   ],
   "source": [
    "find_final_amount(10000,.08,4,1)"
   ]
  },
  {
   "cell_type": "code",
   "execution_count": 20,
   "metadata": {},
   "outputs": [],
   "source": [
    "def value_calc(x,y,z):\n",
    "\n",
    "    if z == '+':\n",
    "        return(x+y)\n",
    "    elif z == '-':\n",
    "        return(x-y)\n",
    "    elif z == '*':\n",
    "        return(x*y)\n",
    "    elif z == '/':\n",
    "        return(x/y)\n",
    "    else:\n",
    "        return('error')\n"
   ]
  },
  {
   "cell_type": "code",
   "execution_count": 26,
   "metadata": {},
   "outputs": [
    {
     "data": {
      "text/plain": [
       "700"
      ]
     },
     "execution_count": 26,
     "metadata": {},
     "output_type": "execute_result"
    }
   ],
   "source": [
    "value_calc(100,7,'*')"
   ]
  },
  {
   "cell_type": "code",
   "execution_count": 39,
   "metadata": {},
   "outputs": [],
   "source": [
    "def pricing(*price):\n",
    "\n",
    "    total_price = sum(price)\n",
    "\n",
    "    if total_price > 250:\n",
    "        total_price = total_price - (total_price*.1)\n",
    "    elif total_price > 100:\n",
    "        total_price = total_price - (total_price*.06)\n",
    "\n",
    "    tax_price = total_price + (total_price*.08)\n",
    "    final_price = round(tax_price,2)\n",
    "    return(final_price)"
   ]
  },
  {
   "cell_type": "code",
   "execution_count": 40,
   "metadata": {},
   "outputs": [
    {
     "data": {
      "text/plain": [
       "169.54"
      ]
     },
     "execution_count": 40,
     "metadata": {},
     "output_type": "execute_result"
    }
   ],
   "source": [
    "pricing(5,50,100,12)"
   ]
  }
 ],
 "metadata": {
  "kernelspec": {
   "display_name": "Python 3",
   "language": "python",
   "name": "python3"
  },
  "language_info": {
   "codemirror_mode": {
    "name": "ipython",
    "version": 3
   },
   "file_extension": ".py",
   "mimetype": "text/x-python",
   "name": "python",
   "nbconvert_exporter": "python",
   "pygments_lexer": "ipython3",
   "version": "3.8.5"
  }
 },
 "nbformat": 4,
 "nbformat_minor": 4
}