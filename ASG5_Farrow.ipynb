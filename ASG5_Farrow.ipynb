{
 "cells": [
  {
   "cell_type": "markdown",
   "metadata": {},
   "source": [
    "## ASG-5-1 - Lists & Tuples\n",
    "---"
   ]
  },
  {
   "cell_type": "code",
   "execution_count": 79,
   "metadata": {},
   "outputs": [],
   "source": [
    "Your_last_name = 'Farrow'\n",
    "Your_netID = 'tdf35'"
   ]
  },
  {
   "cell_type": "markdown",
   "metadata": {},
   "source": [
    "___\n",
    "## Part 1) Working with lists\n",
    "The Business Analytics concentration requirements are as follows:\n",
    "\n",
    "* AEM 2820: Database Management Systems\n",
    "* AEM 2830: VBA & Python\n",
    "* AEM 3100: Business Statistics\n",
    "* AEM 2010: Spreadsheet Modeling\n",
    "\n",
    "The class capacity of AEM 2820 is 35, AEM 2830 is 25, AEM 3100 is 45, and AEM 2010 is 40.\n",
    "\n",
    "_____\n",
    "#### Part 1-a)\n",
    "Create 3 separate lists; one for course codes, one for course titles, and one for course capacity and name them course_code, course_title, and course_capacity."
   ]
  },
  {
   "cell_type": "code",
   "execution_count": 80,
   "metadata": {},
   "outputs": [],
   "source": [
    "course_code = ['AEM 2820', 'AEM 2830', 'AEM 3100', 'AEM 2010']\n",
    "course_title = ['Database Management Systems','VBA & Python','Business Statistics','Spreadsheet Modeling']\n",
    "course_capacity = [35,25,45,40]"
   ]
  },
  {
   "cell_type": "markdown",
   "metadata": {},
   "source": [
    "_____\n",
    "#### Part 1-b) List slicing\n",
    "Use __list[index]__ method to print the following:\n",
    "* Course code of VBA & Python class. i.e. print(course_code[1])\n",
    "* Course title of AEM 2820 class.\n",
    "* Course capacity of Spreadsheet Modeling class.\n",
    "* Print course capacity of 'AEM 2830' and 'AEM 3100'\n",
    "* Print the last item on the course code."
   ]
  },
  {
   "cell_type": "code",
   "execution_count": 81,
   "metadata": {},
   "outputs": [
    {
     "name": "stdout",
     "output_type": "stream",
     "text": [
      "AEM 2830\n",
      "Database Management Systems\n",
      "40\n",
      "[25, 45]\n",
      "AEM 2010\n"
     ]
    }
   ],
   "source": [
    "print(course_code[1])\n",
    "print(course_title[0])\n",
    "print(course_capacity[3])\n",
    "print(course_capacity[1:3])\n",
    "print(course_code[-1])"
   ]
  },
  {
   "cell_type": "markdown",
   "metadata": {},
   "source": [
    "_____\n",
    "#### Part 1-c)\n",
    "* Print course titles using __for loop__.\n",
    "* Print course titles using __while loop__."
   ]
  },
  {
   "cell_type": "code",
   "execution_count": 82,
   "metadata": {},
   "outputs": [
    {
     "name": "stdout",
     "output_type": "stream",
     "text": [
      "Database Management Systems\n",
      "VBA & Python\n",
      "Business Statistics\n",
      "Spreadsheet Modeling\n"
     ]
    }
   ],
   "source": [
    "for course in course_title:\n",
    "    print(course)"
   ]
  },
  {
   "cell_type": "code",
   "execution_count": 83,
   "metadata": {},
   "outputs": [
    {
     "name": "stdout",
     "output_type": "stream",
     "text": [
      "Database Management Systems\n",
      "VBA & Python\n",
      "Business Statistics\n",
      "Spreadsheet Modeling\n"
     ]
    }
   ],
   "source": [
    "i = 0\n",
    "while i < 4:\n",
    "    print(course_title[i])\n",
    "    i+=1"
   ]
  },
  {
   "cell_type": "markdown",
   "metadata": {},
   "source": [
    "_____\n",
    "#### Part 1-d)\n",
    "Print course codes, titles, and capacities in following format using a for loop.\n",
    "    \n",
    "    AEM 2820 : Database Management Systems , cap is 35\n",
    "    AEM 2830 : VBA & Python , cap is 25\n",
    "    AEM 3100 : Business Statistics , cap is 45\n",
    "    AEM 2010 : Spreadsheet Modeling , cap is 40"
   ]
  },
  {
   "cell_type": "code",
   "execution_count": 84,
   "metadata": {},
   "outputs": [
    {
     "name": "stdout",
     "output_type": "stream",
     "text": [
      "AEM 2820 : Database Management Systems , cap is 35\n",
      "AEM 2830 : VBA & Python , cap is 25\n",
      "AEM 3100 : Business Statistics , cap is 45\n",
      "AEM 2010 : Spreadsheet Modeling , cap is 40\n"
     ]
    }
   ],
   "source": [
    "for index in range(len(lst1)):\n",
    "    print (course_code[index],':',course_title[index],\", cap is\",course_capacity[index])"
   ]
  },
  {
   "cell_type": "markdown",
   "metadata": {},
   "source": [
    "_____\n",
    "#### Part 1-e)\n",
    "Update the AEM 2820 course name. The old name is \"Database Management Systems\". Change it to \"DBMS\"."
   ]
  },
  {
   "cell_type": "code",
   "execution_count": 85,
   "metadata": {},
   "outputs": [
    {
     "name": "stdout",
     "output_type": "stream",
     "text": [
      "['DBMS', 'VBA & Python', 'Business Statistics', 'Spreadsheet Modeling']\n"
     ]
    }
   ],
   "source": [
    "course_title[0] = 'DBMS'\n",
    "print(lst2)"
   ]
  },
  {
   "cell_type": "markdown",
   "metadata": {},
   "source": [
    "_____\n",
    "#### Part 1-f) List methods\n",
    "* Use __index()__ method to find the location of the \"Business Statistics\" course on __course_title__. Save the index value into a variable named __target_index__. Print __target_index__."
   ]
  },
  {
   "cell_type": "code",
   "execution_count": 86,
   "metadata": {},
   "outputs": [
    {
     "name": "stdout",
     "output_type": "stream",
     "text": [
      "2\n"
     ]
    }
   ],
   "source": [
    "target_index = course_title.index('Business Statistics')\n",
    "print(target_index)"
   ]
  },
  {
   "cell_type": "markdown",
   "metadata": {},
   "source": [
    "* Use __pop()__ method to remove \"Business Statistics\" __code__ from __course_code__ list. Use __target_index__ value. Save the deleted item to a variable called __target_course__ and print __target_course__."
   ]
  },
  {
   "cell_type": "code",
   "execution_count": 87,
   "metadata": {},
   "outputs": [
    {
     "name": "stdout",
     "output_type": "stream",
     "text": [
      "AEM 3100\n"
     ]
    }
   ],
   "source": [
    "target_course = course_code.pop(target_index)\n",
    "print(target_course)"
   ]
  },
  {
   "cell_type": "markdown",
   "metadata": {},
   "source": [
    "* Use __remove()__ method to remove \"Business Statistics\" __title__ from __course_title__ list."
   ]
  },
  {
   "cell_type": "code",
   "execution_count": 88,
   "metadata": {},
   "outputs": [],
   "source": [
    "course_title.remove('Business Statistics')"
   ]
  },
  {
   "cell_type": "markdown",
   "metadata": {},
   "source": [
    "* Use __del__ to delete \"Business Statistics\" capacity from __course_capacity__ list."
   ]
  },
  {
   "cell_type": "code",
   "execution_count": 89,
   "metadata": {},
   "outputs": [],
   "source": [
    "del course_capacity[2]"
   ]
  },
  {
   "cell_type": "markdown",
   "metadata": {},
   "source": [
    "* Print all lists to make sure the code, title, and capacity of the \"Business Statistics\" is removed."
   ]
  },
  {
   "cell_type": "code",
   "execution_count": 90,
   "metadata": {},
   "outputs": [
    {
     "name": "stdout",
     "output_type": "stream",
     "text": [
      "['DBMS', 'VBA & Python', 'Spreadsheet Modeling']\n",
      "[35, 25, 40]\n",
      "['AEM 2820', 'AEM 2830', 'AEM 2010']\n"
     ]
    }
   ],
   "source": [
    "print(course_title)\n",
    "print(course_capacity)\n",
    "print(course_code)"
   ]
  },
  {
   "cell_type": "markdown",
   "metadata": {},
   "source": [
    "_____\n",
    "#### Part 1-g)\n",
    "Add the following course to the end of the related lists: AEM 4110, Econometrics, capacity 60"
   ]
  },
  {
   "cell_type": "code",
   "execution_count": 91,
   "metadata": {},
   "outputs": [],
   "source": [
    "course_code.append('AEM 4110')\n",
    "course_capacity.append(60)\n",
    "course_title.append('Econometrics')"
   ]
  },
  {
   "cell_type": "markdown",
   "metadata": {},
   "source": [
    "_____\n",
    "#### Part 1-h)\n",
    "* Sort course_title list.\n",
    "* Reverse the order of course_title."
   ]
  },
  {
   "cell_type": "code",
   "execution_count": 94,
   "metadata": {
    "scrolled": true
   },
   "outputs": [
    {
     "name": "stdout",
     "output_type": "stream",
     "text": [
      "['DBMS', 'Econometrics', 'Spreadsheet Modeling', 'VBA & Python']\n"
     ]
    }
   ],
   "source": [
    "course_title.sort()\n",
    "print(course_title)"
   ]
  },
  {
   "cell_type": "code",
   "execution_count": 97,
   "metadata": {},
   "outputs": [
    {
     "name": "stdout",
     "output_type": "stream",
     "text": [
      "['VBA & Python', 'Spreadsheet Modeling', 'Econometrics', 'DBMS']\n"
     ]
    }
   ],
   "source": [
    "course_title.reverse()\n",
    "print(course_title)"
   ]
  },
  {
   "cell_type": "markdown",
   "metadata": {},
   "source": [
    "_____\n",
    "#### Part 1-i) List functions\n",
    "Use built-in functions to answer this:\n",
    "* What is the length of course_title list?\n",
    "* What is the total capacity of the courses?"
   ]
  },
  {
   "cell_type": "code",
   "execution_count": 98,
   "metadata": {},
   "outputs": [
    {
     "name": "stdout",
     "output_type": "stream",
     "text": [
      "4\n"
     ]
    }
   ],
   "source": [
    "x = len(course_title)\n",
    "print(x)"
   ]
  },
  {
   "cell_type": "code",
   "execution_count": 99,
   "metadata": {},
   "outputs": [
    {
     "data": {
      "text/plain": [
       "160"
      ]
     },
     "execution_count": 99,
     "metadata": {},
     "output_type": "execute_result"
    }
   ],
   "source": [
    "sum(course_capacity)"
   ]
  },
  {
   "cell_type": "markdown",
   "metadata": {},
   "source": [
    "___\n",
    "## Part 2) Tuples\n",
    "\n",
    "#### Part 3-a)\n",
    "Create a tuple for each course in part 1-a. The first item in the tuple should be course code, the second item course title, and the third item course cap. Just type the tuples in the cell."
   ]
  },
  {
   "cell_type": "code",
   "execution_count": 100,
   "metadata": {},
   "outputs": [],
   "source": [
    "course_1 = ('AEM 3100', 'Business Statistics', 45)\n",
    "course_2 = ('AEM 2010', 'Spreadsheet Modeling', 40)\n",
    "course_3 = ('AEM 2830', 'VBA & Python', 25)\n",
    "course_4 = ('AEM 2820', 'Database Management Systems', 35)"
   ]
  },
  {
   "cell_type": "markdown",
   "metadata": {},
   "source": [
    "___\n",
    "#### Part 3-b)\n",
    "Use tuple unpacking to unpack the first tuple in part 3-a. Assign the values to variables var1, var2, var3. Print the variables."
   ]
  },
  {
   "cell_type": "code",
   "execution_count": 101,
   "metadata": {},
   "outputs": [
    {
     "name": "stdout",
     "output_type": "stream",
     "text": [
      "AEM 3100 Business Statistics 45\n"
     ]
    }
   ],
   "source": [
    "var1, var2, var3 = course_1\n",
    "print(var1, var2, var3)"
   ]
  },
  {
   "cell_type": "markdown",
   "metadata": {},
   "source": [
    "---\n",
    "## Part 3\n",
    "\n",
    "The following table provides the stock data for 10 companies on Oct-15, 2019. The data stored in a list of tuples below:\n",
    "\n",
    "Company Name|Ticker|Open|High|Low|Close\n",
    "-|-|-|-|-|-\n",
    "Microsoft|MSFT|140.06|141.79|139.81|141.57\n",
    "Apple|AAPL|236.39|237.65|234.88|235.32\n",
    "Amazon|AMZN|1742.14|1776.45|1740.62|1767.38\n",
    "Alphabet|GOOG|1220.4|1247.33|1220.4|1243.01\n",
    "Facebook|FB|183.8|190.38|183.66|188.89\n",
    "JPMorgan Chase|JPM|118.85|121.59|117.87|119.96\n",
    "Johnson and Johnson|JNJ|133.0|134.25|132.1|132.84\n",
    "Visa|V|178.13|179.43|177.55|178.75\n",
    "Walmart|WMT|119.33|119.99|118.87|119.53\n",
    "P and G|PG|20.19|120.56|116.7|117.2\n",
    "\n",
    "Write a function that takes df_1 (list of tuples) and a ticker name. The function should return the High price of the given stock from df_1. The High price is the 4th item of each tuple. "
   ]
  },
  {
   "cell_type": "code",
   "execution_count": 124,
   "metadata": {},
   "outputs": [],
   "source": [
    "df_1 =      [('Company Name', 'Ticker', 'Open', 'High','Low', 'Close'),\n",
    "             ('Microsoft', 'MSFT', 140.06, 141.79, 139.81, 141.57),\n",
    "             ('Apple', 'AAPL', 236.39, 237.65, 234.88, 235.32),\n",
    "             ('Amazon', 'AMZN', 1742.14, 1776.45, 1740.62, 1767.38),\n",
    "             ('Alphabet', 'GOOG', 1220.4, 1247.33, 1220.4, 1243.01),\n",
    "             ('Facebook', 'FB', 183.8, 190.38, 183.66, 188.89),\n",
    "             ('JPMorgan Chase', 'JPM', 118.85, 121.59, 117.87, 119.96),\n",
    "             ('Johnson and Johnson', 'JNJ', 133.0, 134.25, 132.1, 132.84),\n",
    "             ('Visa', 'V', 178.13, 179.43, 177.55, 178.75),\n",
    "             ('Walmart', 'WMT', 119.33, 119.99, 118.87, 119.53),\n",
    "             ('P and G', 'PG', 120.19, 120.56, 116.7, 117.2)]"
   ]
  },
  {
   "cell_type": "code",
   "execution_count": 147,
   "metadata": {},
   "outputs": [],
   "source": [
    "def get_high(df,ticker):\n",
    "    for s in df:\n",
    "        if s[1]==ticker:\n",
    "            return s[3]"
   ]
  },
  {
   "cell_type": "code",
   "execution_count": 148,
   "metadata": {},
   "outputs": [
    {
     "data": {
      "text/plain": [
       "141.79"
      ]
     },
     "execution_count": 148,
     "metadata": {},
     "output_type": "execute_result"
    }
   ],
   "source": [
    "# Test your function:\n",
    "get_high(df_1, 'MSFT')"
   ]
  }
 ],
 "metadata": {
  "kernelspec": {
   "display_name": "Python 3",
   "language": "python",
   "name": "python3"
  },
  "language_info": {
   "codemirror_mode": {
    "name": "ipython",
    "version": 3
   },
   "file_extension": ".py",
   "mimetype": "text/x-python",
   "name": "python",
   "nbconvert_exporter": "python",
   "pygments_lexer": "ipython3",
   "version": "3.8.5"
  }
 },
 "nbformat": 4,
 "nbformat_minor": 4
}
