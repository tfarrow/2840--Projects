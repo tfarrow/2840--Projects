{
 "cells": [
  {
   "cell_type": "markdown",
   "metadata": {},
   "source": [
    "## ASG-5-1 - Lists & Tuples\n",
    "---"
   ]
  },
  {
   "cell_type": "code",
   "execution_count": 80,
   "metadata": {},
   "outputs": [],
   "source": [
    "course_code = ['AEM 2820', 'AEM 2830', 'AEM 3100', 'AEM 2010']\n",
    "course_title = ['Database Management Systems','VBA & Python','Business Statistics','Spreadsheet Modeling']\n",
    "course_capacity = [35,25,45,40]"
   ]
  },
  {
   "cell_type": "code",
   "execution_count": 81,
   "metadata": {},
   "outputs": [
    {
     "name": "stdout",
     "output_type": "stream",
     "text": [
      "AEM 2830\n",
      "Database Management Systems\n",
      "40\n",
      "[25, 45]\n",
      "AEM 2010\n"
     ]
    }
   ],
   "source": [
    "print(course_code[1])\n",
    "print(course_title[0])\n",
    "print(course_capacity[3])\n",
    "print(course_capacity[1:3])\n",
    "print(course_code[-1])"
   ]
  },
  {
   "cell_type": "code",
   "execution_count": 82,
   "metadata": {},
   "outputs": [
    {
     "name": "stdout",
     "output_type": "stream",
     "text": [
      "Database Management Systems\n",
      "VBA & Python\n",
      "Business Statistics\n",
      "Spreadsheet Modeling\n"
     ]
    }
   ],
   "source": [
    "for course in course_title:\n",
    "    print(course)"
   ]
  },
  {
   "cell_type": "code",
   "execution_count": 83,
   "metadata": {},
   "outputs": [
    {
     "name": "stdout",
     "output_type": "stream",
     "text": [
      "Database Management Systems\n",
      "VBA & Python\n",
      "Business Statistics\n",
      "Spreadsheet Modeling\n"
     ]
    }
   ],
   "source": [
    "i = 0\n",
    "while i < 4:\n",
    "    print(course_title[i])\n",
    "    i+=1"
   ]
  },
  {
   "cell_type": "code",
   "execution_count": 84,
   "metadata": {},
   "outputs": [
    {
     "name": "stdout",
     "output_type": "stream",
     "text": [
      "AEM 2820 : Database Management Systems , cap is 35\n",
      "AEM 2830 : VBA & Python , cap is 25\n",
      "AEM 3100 : Business Statistics , cap is 45\n",
      "AEM 2010 : Spreadsheet Modeling , cap is 40\n"
     ]
    }
   ],
   "source": [
    "for index in range(len(lst1)):\n",
    "    print (course_code[index],':',course_title[index],\", cap is\",course_capacity[index])"
   ]
  },
  {
   "cell_type": "code",
   "execution_count": 85,
   "metadata": {},
   "outputs": [
    {
     "name": "stdout",
     "output_type": "stream",
     "text": [
      "['DBMS', 'VBA & Python', 'Business Statistics', 'Spreadsheet Modeling']\n"
     ]
    }
   ],
   "source": [
    "course_title[0] = 'DBMS'\n",
    "print(lst2)"
   ]
  },
  {
   "cell_type": "code",
   "execution_count": 86,
   "metadata": {},
   "outputs": [
    {
     "name": "stdout",
     "output_type": "stream",
     "text": [
      "2\n"
     ]
    }
   ],
   "source": [
    "target_index = course_title.index('Business Statistics')\n",
    "print(target_index)"
   ]
  },
  {
   "cell_type": "code",
   "execution_count": 87,
   "metadata": {},
   "outputs": [
    {
     "name": "stdout",
     "output_type": "stream",
     "text": [
      "AEM 3100\n"
     ]
    }
   ],
   "source": [
    "target_course = course_code.pop(target_index)\n",
    "print(target_course)"
   ]
  },
  {
   "cell_type": "code",
   "execution_count": 88,
   "metadata": {},
   "outputs": [],
   "source": [
    "course_title.remove('Business Statistics')"
   ]
  },
  {
   "cell_type": "code",
   "execution_count": 89,
   "metadata": {},
   "outputs": [],
   "source": [
    "del course_capacity[2]"
   ]
  },
  {
   "cell_type": "code",
   "execution_count": 90,
   "metadata": {},
   "outputs": [
    {
     "name": "stdout",
     "output_type": "stream",
     "text": [
      "['DBMS', 'VBA & Python', 'Spreadsheet Modeling']\n",
      "[35, 25, 40]\n",
      "['AEM 2820', 'AEM 2830', 'AEM 2010']\n"
     ]
    }
   ],
   "source": [
    "print(course_title)\n",
    "print(course_capacity)\n",
    "print(course_code)"
   ]
  },
  {
   "cell_type": "code",
   "execution_count": 91,
   "metadata": {},
   "outputs": [],
   "source": [
    "course_code.append('AEM 4110')\n",
    "course_capacity.append(60)\n",
    "course_title.append('Econometrics')"
   ]
  },
  {
   "cell_type": "code",
   "execution_count": 94,
   "metadata": {
    "scrolled": true
   },
   "outputs": [
    {
     "name": "stdout",
     "output_type": "stream",
     "text": [
      "['DBMS', 'Econometrics', 'Spreadsheet Modeling', 'VBA & Python']\n"
     ]
    }
   ],
   "source": [
    "course_title.sort()\n",
    "print(course_title)"
   ]
  },
  {
   "cell_type": "code",
   "execution_count": 97,
   "metadata": {},
   "outputs": [
    {
     "name": "stdout",
     "output_type": "stream",
     "text": [
      "['VBA & Python', 'Spreadsheet Modeling', 'Econometrics', 'DBMS']\n"
     ]
    }
   ],
   "source": [
    "course_title.reverse()\n",
    "print(course_title)"
   ]
  },
  {
   "cell_type": "code",
   "execution_count": 98,
   "metadata": {},
   "outputs": [
    {
     "name": "stdout",
     "output_type": "stream",
     "text": [
      "4\n"
     ]
    }
   ],
   "source": [
    "x = len(course_title)\n",
    "print(x)"
   ]
  },
  {
   "cell_type": "code",
   "execution_count": 99,
   "metadata": {},
   "outputs": [
    {
     "data": {
      "text/plain": [
       "160"
      ]
     },
     "execution_count": 99,
     "metadata": {},
     "output_type": "execute_result"
    }
   ],
   "source": [
    "sum(course_capacity)"
   ]
  },
  {
   "cell_type": "code",
   "execution_count": 100,
   "metadata": {},
   "outputs": [],
   "source": [
    "course_1 = ('AEM 3100', 'Business Statistics', 45)\n",
    "course_2 = ('AEM 2010', 'Spreadsheet Modeling', 40)\n",
    "course_3 = ('AEM 2830', 'VBA & Python', 25)\n",
    "course_4 = ('AEM 2820', 'Database Management Systems', 35)"
   ]
  },
  {
   "cell_type": "code",
   "execution_count": 101,
   "metadata": {},
   "outputs": [
    {
     "name": "stdout",
     "output_type": "stream",
     "text": [
      "AEM 3100 Business Statistics 45\n"
     ]
    }
   ],
   "source": [
    "var1, var2, var3 = course_1\n",
    "print(var1, var2, var3)"
   ]
  },
  {
   "cell_type": "code",
   "execution_count": 124,
   "metadata": {},
   "outputs": [],
   "source": [
    "df_1 =      [('Company Name', 'Ticker', 'Open', 'High','Low', 'Close'),\n",
    "             ('Microsoft', 'MSFT', 140.06, 141.79, 139.81, 141.57),\n",
    "             ('Apple', 'AAPL', 236.39, 237.65, 234.88, 235.32),\n",
    "             ('Amazon', 'AMZN', 1742.14, 1776.45, 1740.62, 1767.38),\n",
    "             ('Alphabet', 'GOOG', 1220.4, 1247.33, 1220.4, 1243.01),\n",
    "             ('Facebook', 'FB', 183.8, 190.38, 183.66, 188.89),\n",
    "             ('JPMorgan Chase', 'JPM', 118.85, 121.59, 117.87, 119.96),\n",
    "             ('Johnson and Johnson', 'JNJ', 133.0, 134.25, 132.1, 132.84),\n",
    "             ('Visa', 'V', 178.13, 179.43, 177.55, 178.75),\n",
    "             ('Walmart', 'WMT', 119.33, 119.99, 118.87, 119.53),\n",
    "             ('P and G', 'PG', 120.19, 120.56, 116.7, 117.2)]"
   ]
  },
  {
   "cell_type": "code",
   "execution_count": 147,
   "metadata": {},
   "outputs": [],
   "source": [
    "def get_high(df,ticker):\n",
    "    for s in df:\n",
    "        if s[1]==ticker:\n",
    "            return s[3]"
   ]
  },
  {
   "cell_type": "code",
   "execution_count": 148,
   "metadata": {},
   "outputs": [
    {
     "data": {
      "text/plain": [
       "141.79"
      ]
     },
     "execution_count": 148,
     "metadata": {},
     "output_type": "execute_result"
    }
   ],
   "source": [
    "# Test your function:\n",
    "get_high(df_1, 'MSFT')"
   ]
  }
 ],
 "metadata": {
  "kernelspec": {
   "display_name": "Python 3",
   "language": "python",
   "name": "python3"
  },
  "language_info": {
   "codemirror_mode": {
    "name": "ipython",
    "version": 3
   },
   "file_extension": ".py",
   "mimetype": "text/x-python",
   "name": "python",
   "nbconvert_exporter": "python",
   "pygments_lexer": "ipython3",
   "version": "3.8.5"
  }
 },
 "nbformat": 4,
 "nbformat_minor": 4
}