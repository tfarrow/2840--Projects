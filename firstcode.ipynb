{
 "cells": [
  {
   "cell_type": "code",
   "execution_count": 43,
   "metadata": {},
   "outputs": [],
   "source": [
    "firstName = 'Timothy'\n",
    "Lastname = 'Farrow'\n",
    "birth_year = 1999\n",
    "employee_age = 2020 - birth_year"
   ]
  },
  {
   "cell_type": "code",
   "execution_count": 44,
   "metadata": {},
   "outputs": [
    {
     "name": "stdout",
     "output_type": "stream",
     "text": [
      "Employee full name: Timothy Farrow\n",
      "Employee age: 21\n"
     ]
    }
   ],
   "source": [
    "print('Employee full name:', firstName, Lastname)\n",
    "print('Employee age:', employee_age)"
   ]
  },
  {
   "cell_type": "code",
   "execution_count": 48,
   "metadata": {},
   "outputs": [
    {
     "name": "stdout",
     "output_type": "stream",
     "text": [
      "What is your first name? Douglas\n",
      "What is your last name? Farrow\n",
      "What year were you born? 1960\n"
     ]
    }
   ],
   "source": [
    "firstName2 = input('What is your first name? ')\n",
    "Lastname2 = input('What is your last name? ')\n",
    "birth_year2 = int(input('What year were you born? '))\n",
    "employee_age2 = 2020 - birth_year2"
   ]
  },
  {
   "cell_type": "code",
   "execution_count": 49,
   "metadata": {},
   "outputs": [
    {
     "name": "stdout",
     "output_type": "stream",
     "text": [
      "Employee full name: Douglas Farrow\n",
      "Employee age: 60\n"
     ]
    }
   ],
   "source": [
    "print('Employee full name:', firstName2, Lastname2)\n",
    "print('Employee age:', employee_age2)"
   ]
  },
  {
   "cell_type": "code",
   "execution_count": 50,
   "metadata": {},
   "outputs": [
    {
     "data": {
      "text/plain": [
       "int"
      ]
     },
     "execution_count": 50,
     "metadata": {},
     "output_type": "execute_result"
    }
   ],
   "source": [
    "# This code generates an employee information summary.\n",
    "type(employee_age)"
   ]
  }
 ],
 "metadata": {
  "kernelspec": {
   "display_name": "Python 3",
   "language": "python",
   "name": "python3"
  },
  "language_info": {
   "codemirror_mode": {
    "name": "ipython",
    "version": 3
   },
   "file_extension": ".py",
   "mimetype": "text/x-python",
   "name": "python",
   "nbconvert_exporter": "python",
   "pygments_lexer": "ipython3",
   "version": "3.8.5"
  }
 },
 "nbformat": 4,
 "nbformat_minor": 4
}
