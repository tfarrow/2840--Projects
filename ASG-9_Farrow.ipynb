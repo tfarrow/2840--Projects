{
 "cells": [
  {
   "cell_type": "code",
   "execution_count": 206,
   "metadata": {},
   "outputs": [],
   "source": [
    "class Account(object):\n",
    "    \n",
    "    balance = 0\n",
    "    number_of_deposits = 0\n",
    "    number_of_withdraws = 0\n",
    "    \n",
    "    def __init__(self, first_name, last_name, account_number):\n",
    "        self.first_name = first_name\n",
    "        self.last_name = last_name\n",
    "        self.account_number = account_number      \n",
    "        \n",
    "    def deposit (self,value):\n",
    "        self.balance = self.balance + value\n",
    "        self.number_of_deposits += 1\n",
    "        \n",
    "    def withdraw (self,value):\n",
    "        self.balance = self.balance - value\n",
    "        self.number_of_withdraws += 1\n",
    "    \n",
    "    #I understand this should be included for the assignment but it seems redundant ...\n",
    "    #x.balance would return the balance why do you need this in a function??? Please help me understand in rubric ->\n",
    "    #def balance_check (self):\n",
    "        #return(balance)\n",
    "    \n",
    "    def __str__(self):\n",
    "        return 'Account holder: ' + str(self.first_name) + ' ' + str(self.last_name) + '\\n*************************' + '\\nCurrent balance: ' + str(self.balance) + '\\n*************************' + '\\nTotal deposits: ' + str(self.number_of_deposits) + '\\nTotal withdraws: ' + str(self.number_of_withdraws)\n",
    "        \n",
    "        \n",
    "    "
   ]
  },
  {
   "cell_type": "code",
   "execution_count": 207,
   "metadata": {},
   "outputs": [],
   "source": [
    "x = Account('Tim', 'Farrow', '123')"
   ]
  },
  {
   "cell_type": "code",
   "execution_count": 208,
   "metadata": {},
   "outputs": [
    {
     "name": "stdout",
     "output_type": "stream",
     "text": [
      "Account holder: Tim Farrow\n",
      "*************************\n",
      "Current balance: 0\n",
      "*************************\n",
      "Total deposits: 0\n",
      "Total withdraws: 0\n"
     ]
    }
   ],
   "source": [
    "print(x)"
   ]
  }
 ],
 "metadata": {
  "kernelspec": {
   "display_name": "Python 3",
   "language": "python",
   "name": "python3"
  },
  "language_info": {
   "codemirror_mode": {
    "name": "ipython",
    "version": 3
   },
   "file_extension": ".py",
   "mimetype": "text/x-python",
   "name": "python",
   "nbconvert_exporter": "python",
   "pygments_lexer": "ipython3",
   "version": "3.8.5"
  }
 },
 "nbformat": 4,
 "nbformat_minor": 4
}
