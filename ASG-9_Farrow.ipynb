{
 "cells": [
  {
   "cell_type": "code",
   "execution_count": 15,
   "metadata": {},
   "outputs": [],
   "source": [
    "class Account(object):\n",
    "#this class if an account simulation at a bank  \n",
    "    balance = 0\n",
    "    number_of_deposits = 0\n",
    "    number_of_withdraws = 0\n",
    "    \n",
    "    def __init__(self, first_name, last_name, account_number):\n",
    "        self.first_name = first_name\n",
    "        self.last_name = last_name\n",
    "        self.account_number = account_number      \n",
    "        \n",
    "    def deposit (self,value):\n",
    "        self.balance = self.balance + value\n",
    "        self.number_of_deposits += 1\n",
    "        \n",
    "    def withdraw (self,value):\n",
    "        self.balance = self.balance - value\n",
    "        self.number_of_withdraws += 1\n",
    "    \n",
    "    def balance_check (self):\n",
    "        return(balance)\n",
    "\n",
    "    def __str__(self):\n",
    "        return 'Account holder: ' + str(self.first_name) + ' ' + str(self.last_name) + '\\n*************************' + '\\nCurrent balance: ' + str(self.balance) + '\\n*************************' + '\\nTotal deposits: ' + str(self.number_of_deposits) + '\\nTotal withdraws: ' + str(self.number_of_withdraws)"
   ]
  },
  {
   "cell_type": "code",
   "execution_count": 13,
   "metadata": {},
   "outputs": [],
   "source": [
    "x = Account('Tim', 'Farrow', '123')"
   ]
  },
  {
   "cell_type": "code",
   "execution_count": 14,
   "metadata": {},
   "outputs": [
    {
     "output_type": "stream",
     "name": "stdout",
     "text": [
      "Account holder: Tim Farrow\n*************************\nCurrent balance: 0\n*************************\nTotal deposits: 0\nTotal withdraws: 0\n"
     ]
    }
   ],
   "source": [
    "print(x)"
   ]
  }
 ],
 "metadata": {
  "kernelspec": {
   "display_name": "Python 3",
   "language": "python",
   "name": "python3"
  },
  "language_info": {
   "codemirror_mode": {
    "name": "ipython",
    "version": 3
   },
   "file_extension": ".py",
   "mimetype": "text/x-python",
   "name": "python",
   "nbconvert_exporter": "python",
   "pygments_lexer": "ipython3",
   "version": "3.8.5-final"
  }
 },
 "nbformat": 4,
 "nbformat_minor": 4
}