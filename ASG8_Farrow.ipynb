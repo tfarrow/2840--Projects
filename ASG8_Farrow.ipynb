{
 "cells": [
  {
   "cell_type": "markdown",
   "metadata": {},
   "source": [
    "## ASG-8 - Web scraping\n",
    "---"
   ]
  },
  {
   "cell_type": "markdown",
   "metadata": {},
   "source": [
    "## Web scraping IMDb\n",
    "\n",
    "IMDb assigns an ID to each movie. We can use this id to build the address of the related IMDb webpage. For instance: \n",
    "\n",
    "* The ID of the **Joker** movie is **tt7286456**. The web address will be: https://www.imdb.com/title/tt7286456/\n",
    "* The ID of **The Dark Knight** movie is **tt0468569**. The web address will be: https://www.imdb.com/title/tt0468569/\n",
    "\n",
    "A list of movie names and their IMDb id is given as follows:"
   ]
  },
  {
   "cell_type": "code",
   "execution_count": 1,
   "metadata": {},
   "outputs": [],
   "source": [
    "import requests\n",
    "from bs4 import BeautifulSoup\n",
    "\n",
    "# You are not allowed to use other web scraping libraries"
   ]
  },
  {
   "cell_type": "code",
   "execution_count": 2,
   "metadata": {},
   "outputs": [],
   "source": [
    "movies = [('memento', 'tt0209144'),\n",
    "          ('insomnia', 'tt0278504'),\n",
    "          ('batman begins', 'tt0372784'),\n",
    "          ('the prestige','tt0482571'),\n",
    "          ('the dark knight', 'tt0468569'),\n",
    "          ('inception', 'tt1375666'),\n",
    "          ('Interstellar', 'tt0816692'),\n",
    "          ('Dunkirk', 'tt5013056')]"
   ]
  },
  {
   "cell_type": "markdown",
   "metadata": {},
   "source": [
    "---\n",
    "### Part 1) (4 pts)\n",
    "\n",
    "Write a function that takes a movie ID and returns the name of the **Movie Director**. Loop through the **movies** list and print the director of each movie using your function.\n",
    "\n",
    "    memento : Christopher Nolan\n",
    "    insomnia : Christopher Nolan\n",
    "    batman begins : Christopher Nolan\n",
    "    the prestige : Christopher Nolan\n",
    "    the dark knight : Christopher Nolan\n",
    "    inception : Christopher Nolan\n",
    "    Interstellar : Christopher Nolan\n",
    "    Dunkirk : Christopher Nolan"
   ]
  },
  {
   "cell_type": "code",
   "execution_count": 3,
   "metadata": {},
   "outputs": [],
   "source": [
    "def get_director(movie_id):\n",
    "    url = 'https://www.imdb.com/title/' + movie_id\n",
    "    response = requests.get(url)\n",
    "    soup = BeautifulSoup(response.text, 'html.parser')\n",
    "\n",
    "    result = soup.find_all('h4',attrs={'class':'inline'},text='Director:')[0]\n",
    "    result = result.next.next.next.text\n",
    "    return(result)\n"
   ]
  },
  {
   "cell_type": "code",
   "execution_count": 4,
   "metadata": {},
   "outputs": [
    {
     "name": "stdout",
     "output_type": "stream",
     "text": [
      "memento : Christopher Nolan\n",
      "insomnia : Christopher Nolan\n",
      "batman begins : Christopher Nolan\n",
      "the prestige : Christopher Nolan\n",
      "the dark knight : Christopher Nolan\n",
      "inception : Christopher Nolan\n",
      "Interstellar : Christopher Nolan\n",
      "Dunkirk : Christopher Nolan\n"
     ]
    }
   ],
   "source": [
    "for director in movies:\n",
    "    x = get_director(director[1])\n",
    "    print(director[0],':',x)"
   ]
  },
  {
   "cell_type": "markdown",
   "metadata": {},
   "source": [
    "---\n",
    "### Part 2) (3 pts)\n",
    "\n",
    "Write a function that takes a movie ID and returns the estimated **Budget** of the movie. Loop through the **movies** list and print the estimated budget of each movie using your function. \n",
    "\n",
    "    memento : 9,000,000\n",
    "    insomnia : 46,000,000\n",
    "    batman begins : 150,000,000\n",
    "    the prestige : 40,000,000\n",
    "    the dark knight : 185,000,000\n",
    "    inception : 160,000,000\n",
    "    Interstellar : 165,000,000\n",
    "    Dunkirk : 100,000,000"
   ]
  },
  {
   "cell_type": "code",
   "execution_count": 5,
   "metadata": {
    "scrolled": true
   },
   "outputs": [],
   "source": [
    "def get_budget(movie_id):\n",
    "    url = 'https://www.imdb.com/title/' + movie_id\n",
    "    response = requests.get(url)\n",
    "    soup = BeautifulSoup(response.text, 'html.parser')\n",
    "\n",
    "    result = soup.find_all('h4',attrs={'class':'inline'},text='Budget:')[0]\n",
    "    result = result.next.next\n",
    "    result = result.strip('\\n')\n",
    "    return(result)"
   ]
  },
  {
   "cell_type": "code",
   "execution_count": 6,
   "metadata": {},
   "outputs": [
    {
     "name": "stdout",
     "output_type": "stream",
     "text": [
      "memento : $9,000,000\n",
      "            \n",
      "insomnia : $46,000,000\n",
      "            \n",
      "batman begins : $150,000,000\n",
      "            \n",
      "the prestige : $40,000,000\n",
      "            \n",
      "the dark knight : $185,000,000\n",
      "            \n",
      "inception : $160,000,000\n",
      "            \n",
      "Interstellar : $165,000,000\n",
      "            \n",
      "Dunkirk : $100,000,000\n",
      "            \n"
     ]
    }
   ],
   "source": [
    "for budget in movies:\n",
    "    x = get_budget(budget[1])\n",
    "    print(budget[0],':', x)"
   ]
  },
  {
   "cell_type": "markdown",
   "metadata": {},
   "source": [
    "---\n",
    "### Part 3) (3 pts)\n",
    "\n",
    "Write a function that takes a movie ID and returns the the **IMDb rate**. Loop through the **movies** list and print the IMDb rate of each movie using your function. \n",
    "\n",
    "    memento : 8.4\n",
    "    insomnia : 7.2\n",
    "    batman begins : 8.2\n",
    "    the prestige : 8.5\n",
    "    the dark knight : 9.0\n",
    "    inception : 8.8\n",
    "    Interstellar : 8.6\n",
    "    Dunkirk : 7.8"
   ]
  },
  {
   "cell_type": "code",
   "execution_count": 22,
   "metadata": {},
   "outputs": [],
   "source": [
    "def get_rating(movie_id):\n",
    "    url = 'https://www.imdb.com/title/' + movie_id\n",
    "    response = requests.get(url)\n",
    "    soup = BeautifulSoup(response.text, 'html.parser')\n",
    "    result = soup.find_all('span',attrs={'itemprop':'ratingValue'})[0]\n",
    "    result = result.text\n",
    "    return result\n"
   ]
  },
  {
   "cell_type": "code",
   "execution_count": 25,
   "metadata": {
    "scrolled": true
   },
   "outputs": [
    {
     "name": "stdout",
     "output_type": "stream",
     "text": [
      "memento : 8.4\n",
      "insomnia : 7.2\n",
      "batman begins : 8.2\n",
      "the prestige : 8.5\n",
      "the dark knight : 9.0\n",
      "inception : 8.8\n",
      "Interstellar : 8.6\n",
      "Dunkirk : 7.8\n"
     ]
    }
   ],
   "source": [
    "for rating in movies:\n",
    "    x = get_rating(rating[1])\n",
    "    print(rating[0],':', x)"
   ]
  }
 ],
 "metadata": {
  "kernelspec": {
   "display_name": "Python 3",
   "language": "python",
   "name": "python3"
  },
  "language_info": {
   "codemirror_mode": {
    "name": "ipython",
    "version": 3
   },
   "file_extension": ".py",
   "mimetype": "text/x-python",
   "name": "python",
   "nbconvert_exporter": "python",
   "pygments_lexer": "ipython3",
   "version": "3.8.5"
  }
 },
 "nbformat": 4,
 "nbformat_minor": 4
}
