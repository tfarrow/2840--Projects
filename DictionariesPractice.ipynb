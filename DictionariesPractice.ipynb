{
 "cells": [
  {
   "cell_type": "markdown",
   "metadata": {},
   "source": [
    "## ASG-5-2 - Dictionaries \n",
    "---"
   ]
  },
  {
   "cell_type": "code",
   "execution_count": 1,
   "metadata": {},
   "outputs": [],
   "source": [
    "Your_last_name = 'Farrow'\n",
    "Your_netID = 'tdf35'"
   ]
  },
  {
   "cell_type": "markdown",
   "metadata": {},
   "source": [
    "___\n",
    "## Part 1) Dictionaries\n",
    "\n",
    "#### Part 1-a)\n",
    "Create a dictionary for AEM 2840. Dictionary name should be course_dict.\n",
    "\n",
    "The Kyes are:\n",
    "* course_code\n",
    "* course_title\n",
    "* course_capacity\n",
    "\n",
    "and the values are:\n",
    "* AEM 2840\n",
    "* Python for Business Analytics\n",
    "* 25"
   ]
  },
  {
   "cell_type": "code",
   "execution_count": 17,
   "metadata": {},
   "outputs": [],
   "source": [
    "course_dict = {'course_code':'AEM 2840','course_title': 'Python for Business Analytics','course_capacity':'25'}"
   ]
  },
  {
   "cell_type": "markdown",
   "metadata": {},
   "source": [
    "___\n",
    "#### Part 1-b)\n",
    "* Create a list of keys in course_dict. Print the resulted list.\n",
    "* Create a list of values in course_dict. Print the resulted list."
   ]
  },
  {
   "cell_type": "code",
   "execution_count": 18,
   "metadata": {},
   "outputs": [
    {
     "data": {
      "text/plain": [
       "dict_keys(['course_code', 'course_title', 'course_capacity'])"
      ]
     },
     "execution_count": 18,
     "metadata": {},
     "output_type": "execute_result"
    }
   ],
   "source": [
    "course_dict.keys()"
   ]
  },
  {
   "cell_type": "code",
   "execution_count": 19,
   "metadata": {},
   "outputs": [
    {
     "data": {
      "text/plain": [
       "dict_values(['AEM 2840', 'Python for Business Analytics', '25'])"
      ]
     },
     "execution_count": 19,
     "metadata": {},
     "output_type": "execute_result"
    }
   ],
   "source": [
    "course_dict.values()"
   ]
  },
  {
   "cell_type": "markdown",
   "metadata": {},
   "source": [
    "___\n",
    "#### Part 1-c)\n",
    "Create a new dictionary and name it course_dict_2. \n",
    "\n",
    "The Kyes are:\n",
    "* course_code\n",
    "* course_title\n",
    "* course_capacity\n",
    "\n",
    "and the values (as lists) are:\n",
    "* course code     -->  'AEM 2820', 'AEM 2830', 'AEM 3100', 'AEM 2010'\n",
    "* course title    -->  'Database Management Systems', 'VBA & Python', 'Business Statistics', 'Spreadsheet Modeling'\n",
    "* course capacity -->   35, 25, 45, 40"
   ]
  },
  {
   "cell_type": "code",
   "execution_count": 20,
   "metadata": {},
   "outputs": [],
   "source": [
    "course_dict_2 = {'course code': ['AEM 2820','AEM 2830', 'AEM 3100', 'AEM 2010'],'course title': ['Database Management Systems','VBA & Python','Business Statistics','Spreadsheet Modeling'],'course capacity': ['35','25','45','40']}   "
   ]
  },
  {
   "cell_type": "markdown",
   "metadata": {},
   "source": [
    "___\n",
    "#### Part 1-d)\n",
    "* Check if AME 2010 is a key in the course_dict.\n",
    "* Check if AME 2010 is __not__ a key in the course_dict."
   ]
  },
  {
   "cell_type": "code",
   "execution_count": 21,
   "metadata": {},
   "outputs": [
    {
     "data": {
      "text/plain": [
       "False"
      ]
     },
     "execution_count": 21,
     "metadata": {},
     "output_type": "execute_result"
    }
   ],
   "source": [
    "'AME 2010' in course_dict"
   ]
  },
  {
   "cell_type": "code",
   "execution_count": 22,
   "metadata": {},
   "outputs": [
    {
     "data": {
      "text/plain": [
       "True"
      ]
     },
     "execution_count": 22,
     "metadata": {},
     "output_type": "execute_result"
    }
   ],
   "source": [
    "'AME 2010' not in course_dict"
   ]
  },
  {
   "cell_type": "markdown",
   "metadata": {},
   "source": [
    "---\n",
    "## Part 2\n",
    "\n",
    "The following table provides the stock data for 10 companies on Oct-15, 2019. The data stored in a dictionary:\n",
    "\n",
    "Company Name|Ticker|Open|High|Low|Close\n",
    "-|-|-|-|-|-\n",
    "Microsoft|MSFT|140.06|141.79|139.81|141.57\n",
    "Apple|AAPL|236.39|237.65|234.88|235.32\n",
    "Amazon|AMZN|1742.14|1776.45|1740.62|1767.38\n",
    "Alphabet|GOOG|1220.4|1247.33|1220.4|1243.01\n",
    "Facebook|FB|183.8|190.38|183.66|188.89\n",
    "JPMorgan Chase|JPM|118.85|121.59|117.87|119.96\n",
    "Johnson and Johnson|JNJ|133.0|134.25|132.1|132.84\n",
    "Visa|V|178.13|179.43|177.55|178.75\n",
    "Walmart|WMT|119.33|119.99|118.87|119.53\n",
    "P and G|PG|20.19|120.56|116.7|117.2"
   ]
  },
  {
   "cell_type": "code",
   "execution_count": 34,
   "metadata": {},
   "outputs": [],
   "source": [
    "df_1 = {'Company Name': ['Microsoft', 'Apple', 'Amazon', 'Alphabet', 'Facebook', 'JPMorgan Chase', 'Johnson and Johnson', 'Visa', 'Walmart', 'P and G'],\n",
    "        'Ticker'      : ['MSFT', 'AAPL', 'AMZN',  'GOOG', 'FB', 'JPM', 'JNJ', 'V', 'WMT', 'PG'],\n",
    "        'Open'        : [140.06, 236.39, 1742.14, 1220.4, 183.8, 118.85, 133.0, 178.13, 119.33, 120.19],\n",
    "        'High'        : [141.79, 237.65, 1776.45, 1247.33, 190.38, 121.59, 134.25, 179.43, 119.99, 120.56],\n",
    "        'Low'         : [139.81, 234.88, 1740.62, 1220.4, 183.66, 117.87, 132.1, 177.55, 118.87, 116.7],\n",
    "        'Close'       : [141.57, 235.32, 1767.38, 1243.01, 188.89, 119.96, 132.84, 178.75, 119.53, 117.2]}"
   ]
  },
  {
   "cell_type": "code",
   "execution_count": 44,
   "metadata": {},
   "outputs": [],
   "source": [
    "def get_low_price(x,ticker):\n",
    "    for t in range(len(x['Ticker'])):\n",
    "        if x['Ticker'][t] == ticker:\n",
    "            return x['Low'][t]"
   ]
  },
  {
   "cell_type": "code",
   "execution_count": 45,
   "metadata": {},
   "outputs": [
    {
     "name": "stdout",
     "output_type": "stream",
     "text": [
      "234.88\n"
     ]
    }
   ],
   "source": [
    "print(get_low_price(df_1,'AAPL'))"
   ]
  }
 ],
 "metadata": {
  "kernelspec": {
   "display_name": "Python 3",
   "language": "python",
   "name": "python3"
  },
  "language_info": {
   "codemirror_mode": {
    "name": "ipython",
    "version": 3
   },
   "file_extension": ".py",
   "mimetype": "text/x-python",
   "name": "python",
   "nbconvert_exporter": "python",
   "pygments_lexer": "ipython3",
   "version": "3.8.5"
  }
 },
 "nbformat": 4,
 "nbformat_minor": 4
}
